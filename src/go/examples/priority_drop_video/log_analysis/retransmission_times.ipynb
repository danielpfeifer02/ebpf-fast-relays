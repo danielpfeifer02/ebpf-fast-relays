{
 "cells": [
  {
   "cell_type": "code",
   "execution_count": 249,
   "metadata": {},
   "outputs": [],
   "source": [
    "import pandas as pd\n",
    "import matplotlib.pyplot as plt"
   ]
  },
  {
   "cell_type": "code",
   "execution_count": 250,
   "metadata": {},
   "outputs": [],
   "source": [
    "def pretty_print_nanoseconds(ns):\n",
    "\n",
    "    if ns > 1_000_000:\n",
    "        return f\"{ns / 1_000_000:.4f}ms\"\n",
    "    elif ns > 1_000:\n",
    "        return f\"{ns / 1_000:.4f}µs\"\n",
    "    else:\n",
    "        return f\"{ns}ns\""
   ]
  },
  {
   "cell_type": "code",
   "execution_count": null,
   "metadata": {},
   "outputs": [
    {
     "name": "stdout",
     "output_type": "stream",
     "text": [
      "   pn                   ts\n",
      "1   0  1730802523760220291\n",
      "2   2  1730802523766004753\n",
      "3   3  1730802523766009782\n",
      "4   4  1730802523766206152\n",
      "5   5  1730802523766216602\n"
     ]
    }
   ],
   "source": [
    "# Load the data from the file into a DataFrame\n",
    "file_path = '../log_active_analysis/packet_timestamps.txt'\n",
    "ts_mapping = pd.read_csv(file_path, delimiter=' ', header=None)\n",
    "\n",
    "ts_mapping.columns = ['pn', 'ts']\n",
    "ts_mapping = ts_mapping[1:]\n",
    "\n",
    "# Interpret both columns as integers\n",
    "ts_mapping = ts_mapping.astype(int)\n",
    "\n",
    "# Display the first few rows of the DataFrame\n",
    "print(ts_mapping.head())\n"
   ]
  },
  {
   "cell_type": "code",
   "execution_count": 252,
   "metadata": {},
   "outputs": [
    {
     "name": "stdout",
     "output_type": "stream",
     "text": [
      "256\n",
      "[1, 14, 26, 28, 59, 109, 112, 171, 176, 285]\n"
     ]
    }
   ],
   "source": [
    "missing_packets = []\n",
    "for i in range(1, len(ts_mapping)-1):\n",
    "    if ts_mapping['pn'][i]+1 != ts_mapping['pn'][i+1]:\n",
    "        missing_packets.append(ts_mapping['pn'][i]+1)\n",
    "\n",
    "print(len(missing_packets))\n",
    "print(missing_packets[:10])"
   ]
  },
  {
   "cell_type": "code",
   "execution_count": null,
   "metadata": {},
   "outputs": [
    {
     "name": "stdout",
     "output_type": "stream",
     "text": [
      "   old_pn  new_pn\n",
      "1      14       9\n",
      "2      26      12\n",
      "3      28      13\n",
      "4      59      16\n",
      "5     109      18\n",
      "     old_pn  new_pn\n",
      "176   10923     297\n",
      "177   11077     300\n",
      "178   11172     302\n",
      "179   11196     303\n",
      "180   11202     305\n"
     ]
    }
   ],
   "source": [
    "# Load the data from the file into a DataFrame\n",
    "file_path = '../log_active_analysis/retransmission_mapping_go.txt'\n",
    "go_mappings = pd.read_csv(file_path, delimiter=' ', header=None)\n",
    "\n",
    "go_mappings.columns = ['old_pn', 'new_pn']\n",
    "go_mappings = go_mappings[1:]\n",
    "\n",
    "# Interpret both columns as integers\n",
    "go_mappings = go_mappings.astype(int)\n",
    "\n",
    "# Display the first few rows of the DataFrame\n",
    "print(go_mappings.head())\n",
    "print(go_mappings.tail())"
   ]
  },
  {
   "cell_type": "code",
   "execution_count": null,
   "metadata": {},
   "outputs": [
    {
     "name": "stdout",
     "output_type": "stream",
     "text": [
      "   old_pn  new_pn\n",
      "0       1       2\n",
      "1       2       3\n",
      "2       3       4\n",
      "3       4       5\n",
      "4       5       6\n",
      "     old_pn  new_pn\n",
      "276     277   10073\n",
      "277     278   10102\n",
      "278     279   10112\n",
      "279     280   10113\n",
      "280     281   10143\n"
     ]
    }
   ],
   "source": [
    "# Load the data from the file into a DataFrame\n",
    "file_path = '../log_active_analysis/retransmission_mapping_ebpf.txt'\n",
    "\n",
    "# Make empty dataframe\n",
    "ebpf_mappings = pd.DataFrame(columns = ['old_pn', 'new_pn'], dtype=int)\n",
    "\n",
    "\n",
    "with open(file_path, 'r') as file:\n",
    "    for line in file:\n",
    "        line = line[69:]\n",
    "        line = line.replace(\",\", \"\")\n",
    "        line = line.replace(\"Old packet number: \", \"\")\n",
    "        line = line.replace(\"New packet number: \", \"\")\n",
    "        old_pn, new_pn = map(int, line.split())\n",
    "        ebpf_mappings = pd.concat([ebpf_mappings, pd.DataFrame({'old_pn': old_pn, 'new_pn': new_pn}, index=[0])], ignore_index=True)\n",
    "\n",
    "\n",
    "# Display the first few rows of the DataFrame\n",
    "print(ebpf_mappings.head())\n",
    "print(ebpf_mappings.tail())"
   ]
  },
  {
   "cell_type": "code",
   "execution_count": 255,
   "metadata": {},
   "outputs": [
    {
     "data": {
      "text/html": [
       "<div>\n",
       "<style scoped>\n",
       "    .dataframe tbody tr th:only-of-type {\n",
       "        vertical-align: middle;\n",
       "    }\n",
       "\n",
       "    .dataframe tbody tr th {\n",
       "        vertical-align: top;\n",
       "    }\n",
       "\n",
       "    .dataframe thead th {\n",
       "        text-align: right;\n",
       "    }\n",
       "</style>\n",
       "<table border=\"1\" class=\"dataframe\">\n",
       "  <thead>\n",
       "    <tr style=\"text-align: right;\">\n",
       "      <th></th>\n",
       "      <th>pn</th>\n",
       "      <th>ts</th>\n",
       "    </tr>\n",
       "  </thead>\n",
       "  <tbody>\n",
       "    <tr>\n",
       "      <th>1</th>\n",
       "      <td>0</td>\n",
       "      <td>1730802523760220291</td>\n",
       "    </tr>\n",
       "    <tr>\n",
       "      <th>2</th>\n",
       "      <td>2</td>\n",
       "      <td>1730802523766004753</td>\n",
       "    </tr>\n",
       "    <tr>\n",
       "      <th>3</th>\n",
       "      <td>3</td>\n",
       "      <td>1730802523766009782</td>\n",
       "    </tr>\n",
       "    <tr>\n",
       "      <th>4</th>\n",
       "      <td>4</td>\n",
       "      <td>1730802523766206152</td>\n",
       "    </tr>\n",
       "    <tr>\n",
       "      <th>5</th>\n",
       "      <td>5</td>\n",
       "      <td>1730802523766216602</td>\n",
       "    </tr>\n",
       "    <tr>\n",
       "      <th>...</th>\n",
       "      <td>...</td>\n",
       "      <td>...</td>\n",
       "    </tr>\n",
       "    <tr>\n",
       "      <th>11576</th>\n",
       "      <td>11815</td>\n",
       "      <td>1730802586899159843</td>\n",
       "    </tr>\n",
       "    <tr>\n",
       "      <th>11577</th>\n",
       "      <td>11816</td>\n",
       "      <td>1730802586899160083</td>\n",
       "    </tr>\n",
       "    <tr>\n",
       "      <th>11578</th>\n",
       "      <td>11817</td>\n",
       "      <td>1730802586899160364</td>\n",
       "    </tr>\n",
       "    <tr>\n",
       "      <th>11579</th>\n",
       "      <td>11818</td>\n",
       "      <td>1730802586899160474</td>\n",
       "    </tr>\n",
       "    <tr>\n",
       "      <th>11580</th>\n",
       "      <td>11819</td>\n",
       "      <td>1730802586899164762</td>\n",
       "    </tr>\n",
       "  </tbody>\n",
       "</table>\n",
       "<p>11580 rows × 2 columns</p>\n",
       "</div>"
      ],
      "text/plain": [
       "          pn                   ts\n",
       "1          0  1730802523760220291\n",
       "2          2  1730802523766004753\n",
       "3          3  1730802523766009782\n",
       "4          4  1730802523766206152\n",
       "5          5  1730802523766216602\n",
       "...      ...                  ...\n",
       "11576  11815  1730802586899159843\n",
       "11577  11816  1730802586899160083\n",
       "11578  11817  1730802586899160364\n",
       "11579  11818  1730802586899160474\n",
       "11580  11819  1730802586899164762\n",
       "\n",
       "[11580 rows x 2 columns]"
      ]
     },
     "execution_count": 255,
     "metadata": {},
     "output_type": "execute_result"
    }
   ],
   "source": [
    "ts_mapping"
   ]
  },
  {
   "cell_type": "code",
   "execution_count": 256,
   "metadata": {},
   "outputs": [],
   "source": [
    "ts_mapping = ts_mapping.sort_values(by=['pn'])\n",
    "ts_mapping = ts_mapping.reset_index(drop=True)"
   ]
  },
  {
   "cell_type": "code",
   "execution_count": 257,
   "metadata": {},
   "outputs": [],
   "source": [
    "# Form: (index) -> (pn, earliest ts, latest ts)\n",
    "# If pn was received earliest = latest = ts\n",
    "expected_ranges = {}\n",
    "next_pn = ts_mapping['pn'][1]\n",
    "last_pn = -1\n",
    "last_ts = -1\n",
    "i = 1\n",
    "\n",
    "while i < len(ts_mapping):\n",
    "    pn = ts_mapping['pn'][i]\n",
    "    ts = ts_mapping['ts'][i]\n",
    "    assert pn >= next_pn, f\"pn = {pn}, next_pn = {next_pn}\"\n",
    "    if pn == next_pn:\n",
    "        expected_ranges[next_pn] = (ts, ts)\n",
    "        last_pn = pn\n",
    "        last_ts = ts\n",
    "        i += 1\n",
    "    else:\n",
    "        expected_ranges[next_pn] = (last_ts, ts)\n",
    "\n",
    "    next_pn = next_pn + 1\n"
   ]
  },
  {
   "cell_type": "code",
   "execution_count": 258,
   "metadata": {},
   "outputs": [],
   "source": [
    "retransmission_mappings = pd.DataFrame()\n",
    "go_index = 1\n",
    "intermediate = {}\n",
    "\n",
    "while go_index < len(go_mappings):\n",
    "    old_go, new_go = go_mappings['old_pn'][go_index], go_mappings['new_pn'][go_index]\n",
    "    go_index += 1\n",
    "\n",
    "    if old_go in intermediate:\n",
    "        continue\n",
    "\n",
    "    while 1:\n",
    "        translation_series = ebpf_mappings[ebpf_mappings['old_pn'] == new_go]['new_pn']\n",
    "        if translation_series.empty:\n",
    "            break\n",
    "        translation = translation_series.values[0]\n",
    "        a, b = expected_ranges[translation]\n",
    "        if a == b:\n",
    "            retransmission_mappings = pd.concat([retransmission_mappings, pd.DataFrame({'old_pn': old_go, 'new_pn': translation}, index=[0])], ignore_index=True)\n",
    "            break\n",
    "\n",
    "        intermediate[translation] = True\n",
    "        \n",
    "        new_go = go_mappings[go_mappings['old_pn'] == translation]['new_pn']\n",
    "        if new_go.empty:\n",
    "            break\n",
    "        new_go = new_go.values[0]"
   ]
  },
  {
   "cell_type": "code",
   "execution_count": 259,
   "metadata": {},
   "outputs": [
    {
     "data": {
      "text/plain": [
       "[10019, 10046, 10062, 10080, 10112, 10136, 10245, 10283, 10340, 10382]"
      ]
     },
     "execution_count": 259,
     "metadata": {},
     "output_type": "execute_result"
    }
   ],
   "source": [
    "retransmission_mappings\n",
    "missing_packets[-40:-30]"
   ]
  },
  {
   "cell_type": "code",
   "execution_count": 260,
   "metadata": {},
   "outputs": [
    {
     "data": {
      "text/html": [
       "<div>\n",
       "<style scoped>\n",
       "    .dataframe tbody tr th:only-of-type {\n",
       "        vertical-align: middle;\n",
       "    }\n",
       "\n",
       "    .dataframe tbody tr th {\n",
       "        vertical-align: top;\n",
       "    }\n",
       "\n",
       "    .dataframe thead th {\n",
       "        text-align: right;\n",
       "    }\n",
       "</style>\n",
       "<table border=\"1\" class=\"dataframe\">\n",
       "  <thead>\n",
       "    <tr style=\"text-align: right;\">\n",
       "      <th></th>\n",
       "      <th>lost_pn</th>\n",
       "      <th>retransmit_pn</th>\n",
       "    </tr>\n",
       "  </thead>\n",
       "  <tbody>\n",
       "    <tr>\n",
       "      <th>0</th>\n",
       "      <td>14</td>\n",
       "      <td>17</td>\n",
       "    </tr>\n",
       "    <tr>\n",
       "      <th>1</th>\n",
       "      <td>26</td>\n",
       "      <td>35</td>\n",
       "    </tr>\n",
       "    <tr>\n",
       "      <th>2</th>\n",
       "      <td>28</td>\n",
       "      <td>36</td>\n",
       "    </tr>\n",
       "    <tr>\n",
       "      <th>3</th>\n",
       "      <td>59</td>\n",
       "      <td>62</td>\n",
       "    </tr>\n",
       "    <tr>\n",
       "      <th>4</th>\n",
       "      <td>109</td>\n",
       "      <td>119</td>\n",
       "    </tr>\n",
       "  </tbody>\n",
       "</table>\n",
       "</div>"
      ],
      "text/plain": [
       "   lost_pn  retransmit_pn\n",
       "0       14             17\n",
       "1       26             35\n",
       "2       28             36\n",
       "3       59             62\n",
       "4      109            119"
      ]
     },
     "execution_count": 260,
     "metadata": {},
     "output_type": "execute_result"
    }
   ],
   "source": [
    "merged_mappings = pd.merge(go_mappings, ebpf_mappings, left_on='new_pn', right_on='old_pn', how='inner')\n",
    "\n",
    "merged_mappings = merged_mappings.drop(columns=['new_pn_x', 'old_pn_y'])\n",
    "merged_mappings.columns = ['lost_pn', 'retransmit_pn']\n",
    "\n",
    "merged_mappings.head()"
   ]
  },
  {
   "cell_type": "code",
   "execution_count": 261,
   "metadata": {},
   "outputs": [
    {
     "name": "stdout",
     "output_type": "stream",
     "text": [
      "Old: 10340, New: 283\n",
      "Old: 10382, New: 284\n",
      "Old: 10389, New: 286\n",
      "Old: 10501, New: 288\n",
      "Old: 10591, New: 290\n",
      "Old: 10670, New: 292\n",
      "Old: 10809, New: 295\n",
      "Old: 10923, New: 297\n",
      "Old: 11077, New: 300\n",
      "Old: 11172, New: 302\n"
     ]
    }
   ],
   "source": [
    "for i in range(1, len(go_mappings)-1):\n",
    "    if go_mappings['old_pn'][i] not in merged_mappings['lost_pn'].values:\n",
    "        print(f\"Old: {go_mappings['old_pn'][i]}, New: {go_mappings['new_pn'][i]}\")\n",
    "    "
   ]
  },
  {
   "cell_type": "code",
   "execution_count": 262,
   "metadata": {},
   "outputs": [
    {
     "name": "stdout",
     "output_type": "stream",
     "text": [
      "Multiple retranmits for pn: 653\n",
      "Multiple retranmits for pn: 1074\n"
     ]
    }
   ],
   "source": [
    "actual_translations = pd.DataFrame(columns = ['lost_pn', 'retransmit_pn'], dtype=int)\n",
    "\n",
    "for i in range(1, len(merged_mappings)):\n",
    "    lost_pn = merged_mappings['lost_pn'][i]\n",
    "    retransmit_pn = merged_mappings['retransmit_pn'][i]\n",
    "    while retransmit_pn in merged_mappings['lost_pn'].values:\n",
    "        print(f\"Multiple retranmits for pn: {retransmit_pn}\")\n",
    "        retransmit_pn = merged_mappings[merged_mappings['lost_pn'] == retransmit_pn]['retransmit_pn'].values[0]\n",
    "    actual_translations = pd.concat([actual_translations, pd.DataFrame({'lost_pn': lost_pn, 'retransmit_pn': retransmit_pn}, index=[0])], ignore_index=True)\n",
    "    "
   ]
  },
  {
   "cell_type": "code",
   "execution_count": 263,
   "metadata": {},
   "outputs": [
    {
     "data": {
      "text/html": [
       "<div>\n",
       "<style scoped>\n",
       "    .dataframe tbody tr th:only-of-type {\n",
       "        vertical-align: middle;\n",
       "    }\n",
       "\n",
       "    .dataframe tbody tr th {\n",
       "        vertical-align: top;\n",
       "    }\n",
       "\n",
       "    .dataframe thead th {\n",
       "        text-align: right;\n",
       "    }\n",
       "</style>\n",
       "<table border=\"1\" class=\"dataframe\">\n",
       "  <thead>\n",
       "    <tr style=\"text-align: right;\">\n",
       "      <th></th>\n",
       "      <th>lost_pn_x</th>\n",
       "      <th>retransmit_pn_x</th>\n",
       "      <th>lost_pn_y</th>\n",
       "      <th>retransmit_pn_y</th>\n",
       "    </tr>\n",
       "  </thead>\n",
       "  <tbody>\n",
       "    <tr>\n",
       "      <th>0</th>\n",
       "      <td>640</td>\n",
       "      <td>653</td>\n",
       "      <td>653</td>\n",
       "      <td>671</td>\n",
       "    </tr>\n",
       "    <tr>\n",
       "      <th>1</th>\n",
       "      <td>1068</td>\n",
       "      <td>1074</td>\n",
       "      <td>1074</td>\n",
       "      <td>1093</td>\n",
       "    </tr>\n",
       "  </tbody>\n",
       "</table>\n",
       "</div>"
      ],
      "text/plain": [
       "   lost_pn_x  retransmit_pn_x  lost_pn_y  retransmit_pn_y\n",
       "0        640              653        653              671\n",
       "1       1068             1074       1074             1093"
      ]
     },
     "execution_count": 263,
     "metadata": {},
     "output_type": "execute_result"
    }
   ],
   "source": [
    "test = pd.merge(merged_mappings, merged_mappings, left_on='retransmit_pn', right_on='lost_pn', how='inner')\n",
    "test"
   ]
  },
  {
   "cell_type": "code",
   "execution_count": 264,
   "metadata": {},
   "outputs": [
    {
     "name": "stdout",
     "output_type": "stream",
     "text": [
      "Old: 640, New: 653\n",
      "Old: 1068, New: 1074\n"
     ]
    }
   ],
   "source": [
    "for i in range(0, len(merged_mappings)-1):\n",
    "    if merged_mappings['retransmit_pn'][i] in merged_mappings['lost_pn'].values:\n",
    "        print(f\"Old: {merged_mappings['lost_pn'][i]}, New: {merged_mappings['retransmit_pn'][i]}\")"
   ]
  },
  {
   "cell_type": "code",
   "execution_count": 265,
   "metadata": {},
   "outputs": [],
   "source": [
    "merged_mappings.to_csv('test.csv', index=False)"
   ]
  },
  {
   "cell_type": "code",
   "execution_count": 266,
   "metadata": {},
   "outputs": [],
   "source": [
    "final_mapping = actual_translations.loc[actual_translations.groupby('retransmit_pn')['lost_pn'].idxmin()]\n",
    "\n",
    "# Reset index if needed\n",
    "final_mapping = final_mapping.reset_index(drop=True)"
   ]
  },
  {
   "cell_type": "code",
   "execution_count": 267,
   "metadata": {},
   "outputs": [],
   "source": [
    "retransmit_data = pd.DataFrame(columns = ['lost_pn', 'retransmit_pn', 'min_expected_ts', 'max_expected_ts', 'retransmission_ts', 'min_delay', 'max_delay', 'delay_spread'], dtype=int)\n",
    "\n",
    "for i in range(1, len(final_mapping)):\n",
    "    lost_pn = final_mapping['lost_pn'][i]\n",
    "    retransmit_pn = final_mapping['retransmit_pn'][i]\n",
    "    min_expected_ts = expected_ranges[lost_pn][0]\n",
    "    max_expected_ts = expected_ranges[lost_pn][1]\n",
    "\n",
    "    if expected_ranges[retransmit_pn][0] != expected_ranges[retransmit_pn][1]:\n",
    "        print(f\"Weird retransmit pn: {retransmit_pn}\")\n",
    "        continue\n",
    "    retransmission_ts = expected_ranges[retransmit_pn][0]\n",
    "\n",
    "    min_delay = retransmission_ts - max_expected_ts\n",
    "    max_delay = retransmission_ts - min_expected_ts\n",
    "\n",
    "    retransmit_data = pd.concat([retransmit_data, pd.DataFrame({'lost_pn': lost_pn, \n",
    "                                                                'retransmit_pn': retransmit_pn, \n",
    "                                                                'min_expected_ts': min_expected_ts, \n",
    "                                                                'max_expected_ts': max_expected_ts, \n",
    "                                                                'retransmission_ts': retransmission_ts,\n",
    "                                                                'min_delay': min_delay,\n",
    "                                                                'max_delay': max_delay,\n",
    "                                                                'delay_spread': max_delay - min_delay}, index=[0])], ignore_index=True)"
   ]
  },
  {
   "cell_type": "code",
   "execution_count": 268,
   "metadata": {},
   "outputs": [
    {
     "data": {
      "text/plain": [
       "239"
      ]
     },
     "execution_count": 268,
     "metadata": {},
     "output_type": "execute_result"
    }
   ],
   "source": [
    "k = [x for x in expected_ranges.keys() if expected_ranges[x][0] != expected_ranges[x][1]]\n",
    "len(k)"
   ]
  },
  {
   "cell_type": "code",
   "execution_count": 269,
   "metadata": {},
   "outputs": [
    {
     "data": {
      "text/plain": [
       "256"
      ]
     },
     "execution_count": 269,
     "metadata": {},
     "output_type": "execute_result"
    }
   ],
   "source": [
    "len(missing_packets)"
   ]
  },
  {
   "cell_type": "code",
   "execution_count": 270,
   "metadata": {},
   "outputs": [
    {
     "name": "stdout",
     "output_type": "stream",
     "text": [
      "164\n",
      "   lost_pn  retransmit_pn      min_expected_ts      max_expected_ts  \\\n",
      "0       28             36  1730802523845590574  1730802523845590735   \n",
      "1       59             62  1730802523925684132  1730802523925684382   \n",
      "2      109            119  1730802524086845652  1730802524086870569   \n",
      "3      112            120  1730802524086870939  1730802524086871190   \n",
      "4      171            180  1730802524246848580  1730802524246860783   \n",
      "\n",
      "     retransmission_ts  min_delay  max_delay  delay_spread  \n",
      "0  1730802523852991861    7401126    7401287           161  \n",
      "1  1730802523933000709    7316327    7316577           250  \n",
      "2  1730802524093428247    6557678    6582595         24917  \n",
      "3  1730802524093438657    6567467    6567718           251  \n",
      "4  1730802524253493663    6632880    6645083         12203  \n"
     ]
    }
   ],
   "source": [
    "print(len(retransmit_data))\n",
    "print(retransmit_data.head())"
   ]
  },
  {
   "cell_type": "code",
   "execution_count": 271,
   "metadata": {},
   "outputs": [
    {
     "name": "stdout",
     "output_type": "stream",
     "text": [
      "Longest retransmission difference: 72.6084ms\n",
      "Shortest retransmission difference: 1.1515ms\n"
     ]
    },
    {
     "data": {
      "image/png": "[encoded data removed]",
      "text/plain": [
       "<Figure size 720x360 with 1 Axes>"
      ]
     },
     "metadata": {
      "needs_background": "light"
     },
     "output_type": "display_data"
    }
   ],
   "source": [
    "# Plot all differences\n",
    "max_diffs = retransmit_data['max_delay']\n",
    "min_diffs = retransmit_data['min_delay']\n",
    "\n",
    "print(\"Longest retransmission difference:\", pretty_print_nanoseconds(max(max_diffs)))\n",
    "print(\"Shortest retransmission difference:\", pretty_print_nanoseconds(min(min_diffs)))\n",
    "\n",
    "# make histogram of differences\n",
    "plt.figure(figsize=(10, 5))\n",
    "plt.hist(max_diffs, bins=100, alpha=0.5, label='Max Differences')\n",
    "plt.hist(min_diffs, bins=100, alpha=0.5, label='Min Differences')\n",
    "plt.xlabel('Difference (ns)')\n",
    "plt.ylabel('Frequency')\n",
    "plt.title('Differences of All Retransmissions')\n",
    "plt.legend()\n",
    "\n",
    "plt.show()\n"
   ]
  },
  {
   "cell_type": "code",
   "execution_count": 274,
   "metadata": {},
   "outputs": [
    {
     "name": "stdout",
     "output_type": "stream",
     "text": [
      "Longest retransmission delay spread: 41.1330ms\n",
      "Shortest retransmission delay spread: 120ns\n"
     ]
    },
    {
     "data": {
      "image/png": "[encoded data removed]",
      "text/plain": [
       "<Figure size 720x360 with 1 Axes>"
      ]
     },
     "metadata": {
      "needs_background": "light"
     },
     "output_type": "display_data"
    }
   ],
   "source": [
    "# Plot all delay spreads\n",
    "delay_spreads = retransmit_data['delay_spread']\n",
    "\n",
    "print(\"Longest retransmission delay spread:\", pretty_print_nanoseconds(max(delay_spreads)))\n",
    "print(\"Shortest retransmission delay spread:\", pretty_print_nanoseconds(min(delay_spreads)))\n",
    "\n",
    "# make histogram of delay spreads\n",
    "plt.figure(figsize=(10, 5))\n",
    "plt.hist(delay_spreads, bins=100, alpha=0.5, label='Delay Spreads')\n",
    "\n",
    "plt.xlabel('Delay Spread (ns)')\n",
    "plt.ylabel('Frequency')\n",
    "plt.title('Delay Spreads of All Retransmissions')\n",
    "plt.legend()\n",
    "\n",
    "plt.show()"
   ]
  },
  {
   "cell_type": "code",
   "execution_count": 272,
   "metadata": {},
   "outputs": [],
   "source": [
    "long_delay_pns = retransmit_data[retransmit_data['min_delay'] > 2e7]"
   ]
  },
  {
   "cell_type": "code",
   "execution_count": 273,
   "metadata": {},
   "outputs": [
    {
     "data": {
      "text/html": [
       "<div>\n",
       "<style scoped>\n",
       "    .dataframe tbody tr th:only-of-type {\n",
       "        vertical-align: middle;\n",
       "    }\n",
       "\n",
       "    .dataframe tbody tr th {\n",
       "        vertical-align: top;\n",
       "    }\n",
       "\n",
       "    .dataframe thead th {\n",
       "        text-align: right;\n",
       "    }\n",
       "</style>\n",
       "<table border=\"1\" class=\"dataframe\">\n",
       "  <thead>\n",
       "    <tr style=\"text-align: right;\">\n",
       "      <th></th>\n",
       "      <th>lost_pn</th>\n",
       "      <th>retransmit_pn</th>\n",
       "      <th>min_expected_ts</th>\n",
       "      <th>max_expected_ts</th>\n",
       "      <th>retransmission_ts</th>\n",
       "      <th>min_delay</th>\n",
       "      <th>max_delay</th>\n",
       "      <th>delay_spread</th>\n",
       "    </tr>\n",
       "  </thead>\n",
       "  <tbody>\n",
       "    <tr>\n",
       "      <th>14</th>\n",
       "      <td>640</td>\n",
       "      <td>671</td>\n",
       "      <td>1730802525405344456</td>\n",
       "      <td>1730802525405355808</td>\n",
       "      <td>1730802525450845846</td>\n",
       "      <td>45490038</td>\n",
       "      <td>45501390</td>\n",
       "      <td>11352</td>\n",
       "    </tr>\n",
       "    <tr>\n",
       "      <th>22</th>\n",
       "      <td>1068</td>\n",
       "      <td>1093</td>\n",
       "      <td>1730802526246058483</td>\n",
       "      <td>1730802526246058613</td>\n",
       "      <td>1730802526290764374</td>\n",
       "      <td>44705761</td>\n",
       "      <td>44705891</td>\n",
       "      <td>130</td>\n",
       "    </tr>\n",
       "    <tr>\n",
       "      <th>25</th>\n",
       "      <td>1236</td>\n",
       "      <td>1261</td>\n",
       "      <td>1730802526606608944</td>\n",
       "      <td>1730802526606609204</td>\n",
       "      <td>1730802526652091538</td>\n",
       "      <td>45482334</td>\n",
       "      <td>45482594</td>\n",
       "      <td>260</td>\n",
       "    </tr>\n",
       "    <tr>\n",
       "      <th>26</th>\n",
       "      <td>1280</td>\n",
       "      <td>1309</td>\n",
       "      <td>1730802526686980074</td>\n",
       "      <td>1730802526687199677</td>\n",
       "      <td>1730802526731841809</td>\n",
       "      <td>44642132</td>\n",
       "      <td>44861735</td>\n",
       "      <td>219603</td>\n",
       "    </tr>\n",
       "    <tr>\n",
       "      <th>27</th>\n",
       "      <td>1292</td>\n",
       "      <td>1310</td>\n",
       "      <td>1730802526726103494</td>\n",
       "      <td>1730802526726103734</td>\n",
       "      <td>1730802526762528973</td>\n",
       "      <td>36425239</td>\n",
       "      <td>36425479</td>\n",
       "      <td>240</td>\n",
       "    </tr>\n",
       "    <tr>\n",
       "      <th>28</th>\n",
       "      <td>1368</td>\n",
       "      <td>1391</td>\n",
       "      <td>1730802526846575344</td>\n",
       "      <td>1730802526846612423</td>\n",
       "      <td>1730802526892420851</td>\n",
       "      <td>45808428</td>\n",
       "      <td>45845507</td>\n",
       "      <td>37079</td>\n",
       "    </tr>\n",
       "    <tr>\n",
       "      <th>34</th>\n",
       "      <td>1660</td>\n",
       "      <td>1694</td>\n",
       "      <td>1730802527446745571</td>\n",
       "      <td>1730802527446746142</td>\n",
       "      <td>1730802527492644520</td>\n",
       "      <td>45898378</td>\n",
       "      <td>45898949</td>\n",
       "      <td>571</td>\n",
       "    </tr>\n",
       "    <tr>\n",
       "      <th>35</th>\n",
       "      <td>1666</td>\n",
       "      <td>1695</td>\n",
       "      <td>1730802527446747776</td>\n",
       "      <td>1730802527446748176</td>\n",
       "      <td>1730802527492651132</td>\n",
       "      <td>45902956</td>\n",
       "      <td>45903356</td>\n",
       "      <td>400</td>\n",
       "    </tr>\n",
       "    <tr>\n",
       "      <th>36</th>\n",
       "      <td>1776</td>\n",
       "      <td>1808</td>\n",
       "      <td>1730802527646139442</td>\n",
       "      <td>1730802527646148610</td>\n",
       "      <td>1730802527691707247</td>\n",
       "      <td>45558637</td>\n",
       "      <td>45567805</td>\n",
       "      <td>9168</td>\n",
       "    </tr>\n",
       "    <tr>\n",
       "      <th>41</th>\n",
       "      <td>1944</td>\n",
       "      <td>1974</td>\n",
       "      <td>1730802528006033857</td>\n",
       "      <td>1730802528006226330</td>\n",
       "      <td>1730802528051986837</td>\n",
       "      <td>45760507</td>\n",
       "      <td>45952980</td>\n",
       "      <td>192473</td>\n",
       "    </tr>\n",
       "  </tbody>\n",
       "</table>\n",
       "</div>"
      ],
      "text/plain": [
       "    lost_pn  retransmit_pn      min_expected_ts      max_expected_ts  \\\n",
       "14      640            671  1730802525405344456  1730802525405355808   \n",
       "22     1068           1093  1730802526246058483  1730802526246058613   \n",
       "25     1236           1261  1730802526606608944  1730802526606609204   \n",
       "26     1280           1309  1730802526686980074  1730802526687199677   \n",
       "27     1292           1310  1730802526726103494  1730802526726103734   \n",
       "28     1368           1391  1730802526846575344  1730802526846612423   \n",
       "34     1660           1694  1730802527446745571  1730802527446746142   \n",
       "35     1666           1695  1730802527446747776  1730802527446748176   \n",
       "36     1776           1808  1730802527646139442  1730802527646148610   \n",
       "41     1944           1974  1730802528006033857  1730802528006226330   \n",
       "\n",
       "      retransmission_ts  min_delay  max_delay  delay_spread  \n",
       "14  1730802525450845846   45490038   45501390         11352  \n",
       "22  1730802526290764374   44705761   44705891           130  \n",
       "25  1730802526652091538   45482334   45482594           260  \n",
       "26  1730802526731841809   44642132   44861735        219603  \n",
       "27  1730802526762528973   36425239   36425479           240  \n",
       "28  1730802526892420851   45808428   45845507         37079  \n",
       "34  1730802527492644520   45898378   45898949           571  \n",
       "35  1730802527492651132   45902956   45903356           400  \n",
       "36  1730802527691707247   45558637   45567805          9168  \n",
       "41  1730802528051986837   45760507   45952980        192473  "
      ]
     },
     "execution_count": 273,
     "metadata": {},
     "output_type": "execute_result"
    }
   ],
   "source": [
    "# TODO: why are some taking longer without multiple retransmissions?\n",
    "long_delay_pns[:10]"
   ]
  },
  {
   "cell_type": "code",
   "execution_count": 275,
   "metadata": {},
   "outputs": [],
   "source": [
    "long_delay_spreads = retransmit_data[retransmit_data['delay_spread'] > 2e7]"
   ]
  },
  {
   "cell_type": "code",
   "execution_count": 276,
   "metadata": {},
   "outputs": [
    {
     "data": {
      "text/html": [
       "<div>\n",
       "<style scoped>\n",
       "    .dataframe tbody tr th:only-of-type {\n",
       "        vertical-align: middle;\n",
       "    }\n",
       "\n",
       "    .dataframe tbody tr th {\n",
       "        vertical-align: top;\n",
       "    }\n",
       "\n",
       "    .dataframe thead th {\n",
       "        text-align: right;\n",
       "    }\n",
       "</style>\n",
       "<table border=\"1\" class=\"dataframe\">\n",
       "  <thead>\n",
       "    <tr style=\"text-align: right;\">\n",
       "      <th></th>\n",
       "      <th>lost_pn</th>\n",
       "      <th>retransmit_pn</th>\n",
       "      <th>min_expected_ts</th>\n",
       "      <th>max_expected_ts</th>\n",
       "      <th>retransmission_ts</th>\n",
       "      <th>min_delay</th>\n",
       "      <th>max_delay</th>\n",
       "      <th>delay_spread</th>\n",
       "    </tr>\n",
       "  </thead>\n",
       "  <tbody>\n",
       "    <tr>\n",
       "      <th>24</th>\n",
       "      <td>1210</td>\n",
       "      <td>1212</td>\n",
       "      <td>1730802526566922935</td>\n",
       "      <td>1730802526598380780</td>\n",
       "      <td>1730802526599532328</td>\n",
       "      <td>1151548</td>\n",
       "      <td>32609393</td>\n",
       "      <td>31457845</td>\n",
       "    </tr>\n",
       "    <tr>\n",
       "      <th>42</th>\n",
       "      <td>1991</td>\n",
       "      <td>2004</td>\n",
       "      <td>1730802528087024794</td>\n",
       "      <td>1730802528125472301</td>\n",
       "      <td>1730802528132783869</td>\n",
       "      <td>7311568</td>\n",
       "      <td>45759075</td>\n",
       "      <td>38447507</td>\n",
       "    </tr>\n",
       "    <tr>\n",
       "      <th>44</th>\n",
       "      <td>2329</td>\n",
       "      <td>2346</td>\n",
       "      <td>1730802529005340441</td>\n",
       "      <td>1730802529046250545</td>\n",
       "      <td>1730802529052330835</td>\n",
       "      <td>6080290</td>\n",
       "      <td>46990394</td>\n",
       "      <td>40910104</td>\n",
       "    </tr>\n",
       "    <tr>\n",
       "      <th>132</th>\n",
       "      <td>7483</td>\n",
       "      <td>7493</td>\n",
       "      <td>1730802537804733060</td>\n",
       "      <td>1730802537844739753</td>\n",
       "      <td>1730802537851974115</td>\n",
       "      <td>7234362</td>\n",
       "      <td>47241055</td>\n",
       "      <td>40006693</td>\n",
       "    </tr>\n",
       "    <tr>\n",
       "      <th>146</th>\n",
       "      <td>8920</td>\n",
       "      <td>8937</td>\n",
       "      <td>1730802543885164133</td>\n",
       "      <td>1730802543925171707</td>\n",
       "      <td>1730802543931550829</td>\n",
       "      <td>6379122</td>\n",
       "      <td>46386696</td>\n",
       "      <td>40007574</td>\n",
       "    </tr>\n",
       "    <tr>\n",
       "      <th>152</th>\n",
       "      <td>9492</td>\n",
       "      <td>9508</td>\n",
       "      <td>1730802545964802619</td>\n",
       "      <td>1730802546005523486</td>\n",
       "      <td>1730802546011319219</td>\n",
       "      <td>5795733</td>\n",
       "      <td>46516600</td>\n",
       "      <td>40720867</td>\n",
       "    </tr>\n",
       "    <tr>\n",
       "      <th>160</th>\n",
       "      <td>9896</td>\n",
       "      <td>9914</td>\n",
       "      <td>1730802547324334425</td>\n",
       "      <td>1730802547365467377</td>\n",
       "      <td>1730802547371279551</td>\n",
       "      <td>5812174</td>\n",
       "      <td>46945126</td>\n",
       "      <td>41132952</td>\n",
       "    </tr>\n",
       "  </tbody>\n",
       "</table>\n",
       "</div>"
      ],
      "text/plain": [
       "     lost_pn  retransmit_pn      min_expected_ts      max_expected_ts  \\\n",
       "24      1210           1212  1730802526566922935  1730802526598380780   \n",
       "42      1991           2004  1730802528087024794  1730802528125472301   \n",
       "44      2329           2346  1730802529005340441  1730802529046250545   \n",
       "132     7483           7493  1730802537804733060  1730802537844739753   \n",
       "146     8920           8937  1730802543885164133  1730802543925171707   \n",
       "152     9492           9508  1730802545964802619  1730802546005523486   \n",
       "160     9896           9914  1730802547324334425  1730802547365467377   \n",
       "\n",
       "       retransmission_ts  min_delay  max_delay  delay_spread  \n",
       "24   1730802526599532328    1151548   32609393      31457845  \n",
       "42   1730802528132783869    7311568   45759075      38447507  \n",
       "44   1730802529052330835    6080290   46990394      40910104  \n",
       "132  1730802537851974115    7234362   47241055      40006693  \n",
       "146  1730802543931550829    6379122   46386696      40007574  \n",
       "152  1730802546011319219    5795733   46516600      40720867  \n",
       "160  1730802547371279551    5812174   46945126      41132952  "
      ]
     },
     "execution_count": 276,
     "metadata": {},
     "output_type": "execute_result"
    }
   ],
   "source": [
    "long_delay_spreads"
   ]
  },
  {
   "cell_type": "code",
   "execution_count": null,
   "metadata": {},
   "outputs": [],
   "source": []
  }
 ],
 "metadata": {
  "kernelspec": {
   "display_name": "Python 3",
   "language": "python",
   "name": "python3"
  },
  "language_info": {
   "codemirror_mode": {
    "name": "ipython",
    "version": 3
   },
   "file_extension": ".py",
   "mimetype": "text/x-python",
   "name": "python",
   "nbconvert_exporter": "python",
   "pygments_lexer": "ipython3",
   "version": "3.10.12"
  }
 },
 "nbformat": 4,
 "nbformat_minor": 2
}
