{
 "cells": [
  {
   "cell_type": "code",
   "execution_count": 4,
   "metadata": {},
   "outputs": [
    {
     "name": "stderr",
     "output_type": "stream",
     "text": [
      "/home/danpfei02/.local/lib/python3.10/site-packages/matplotlib/projections/__init__.py:63: UserWarning: Unable to import Axes3D. This may be due to multiple versions of Matplotlib being installed (e.g. as a system package and as a pip package). As a result, the 3D projection is not available.\n",
      "  warnings.warn(\"Unable to import Axes3D. This may be due to multiple versions of \"\n"
     ]
    }
   ],
   "source": [
    "import pandas as pd\n",
    "import matplotlib.pyplot as plt"
   ]
  },
  {
   "cell_type": "code",
   "execution_count": 13,
   "metadata": {},
   "outputs": [
    {
     "name": "stdout",
     "output_type": "stream",
     "text": [
      "   pn                   ts\n",
      "1   0  1730796762927736763\n",
      "2   2  1730796762934274475\n",
      "3   3  1730796762934281748\n",
      "4   4  1730796762934289082\n",
      "5   5  1730796762934930835\n"
     ]
    }
   ],
   "source": [
    "# Load the data from the file into a DataFrame\n",
    "file_path = '../log/packet_timestamps.txt'\n",
    "df = pd.read_csv(file_path, delimiter=' ', header=None)\n",
    "\n",
    "df.columns = ['pn', 'ts']\n",
    "df = df[1:]\n",
    "\n",
    "# Interpret both columns as integers\n",
    "df = df.astype(int)\n",
    "\n",
    "# Display the first few rows of the DataFrame\n",
    "print(df.head())\n"
   ]
  },
  {
   "cell_type": "code",
   "execution_count": 14,
   "metadata": {},
   "outputs": [],
   "source": [
    "df_short = df[0:100]"
   ]
  },
  {
   "cell_type": "code",
   "execution_count": 20,
   "metadata": {},
   "outputs": [],
   "source": [
    "missing_packets = []\n",
    "for i in range(1, len(df)-1):\n",
    "    if df['pn'][i]+1 != df['pn'][i+1]:\n",
    "        missing_packets.append(df['pn'][i]+1)"
   ]
  },
  {
   "cell_type": "code",
   "execution_count": 23,
   "metadata": {},
   "outputs": [
    {
     "data": {
      "text/plain": [
       "[1, 13, 17, 118, 213, 232, 252, 268, 280, 324]"
      ]
     },
     "execution_count": 23,
     "metadata": {},
     "output_type": "execute_result"
    }
   ],
   "source": [
    "missing_packets[:10]"
   ]
  },
  {
   "cell_type": "code",
   "execution_count": null,
   "metadata": {},
   "outputs": [],
   "source": [
    "# TODO: read the mappings from go and ebpf mapping files. Once the pn of a retransmission of a lost pn is know we can compare the expected and actual arrival of the packet. \n",
    "# TODO: In case of fuckup there is a copy of the last state in Downloads"
   ]
  },
  {
   "cell_type": "code",
   "execution_count": 30,
   "metadata": {},
   "outputs": [
    {
     "name": "stdout",
     "output_type": "stream",
     "text": [
      "   old_pn  new_pn\n",
      "1      14       9\n",
      "2      26      12\n",
      "3      28      13\n",
      "4      59      16\n",
      "5     109      18\n"
     ]
    }
   ],
   "source": [
    "# Load the data from the file into a DataFrame\n",
    "file_path = '../log/retransmission_mapping_go.txt'\n",
    "go_mappings = pd.read_csv(file_path, delimiter=' ', header=None)\n",
    "\n",
    "go_mappings.columns = ['old_pn', 'new_pn']\n",
    "go_mappings = go_mappings[1:]\n",
    "\n",
    "# Interpret both columns as integers\n",
    "go_mappings = go_mappings.astype(int)\n",
    "\n",
    "# Display the first few rows of the DataFrame\n",
    "print(go_mappings.head())"
   ]
  },
  {
   "cell_type": "code",
   "execution_count": 38,
   "metadata": {},
   "outputs": [
    {
     "name": "stdout",
     "output_type": "stream",
     "text": [
      "   old_pn  new_pn\n",
      "0       1       2\n",
      "1       2       3\n",
      "2       3       4\n",
      "3       4       5\n",
      "4       5       6\n"
     ]
    }
   ],
   "source": [
    "# Load the data from the file into a DataFrame\n",
    "file_path = '../log/retransmission_mapping_ebpf.txt'\n",
    "\n",
    "# Make empty dataframe\n",
    "ebpf_mappings = pd.DataFrame(columns = ['old_pn', 'new_pn'], dtype=int)\n",
    "\n",
    "\n",
    "with open(file_path, 'r') as file:\n",
    "    for line in file:\n",
    "        line = line[69:]\n",
    "        line = line.replace(\",\", \"\")\n",
    "        line = line.replace(\"Old packet number: \", \"\")\n",
    "        line = line.replace(\"New packet number: \", \"\")\n",
    "        old_pn, new_pn = map(int, line.split())\n",
    "        ebpf_mappings = pd.concat([ebpf_mappings, pd.DataFrame({'old_pn': old_pn, 'new_pn': new_pn}, index=[0])], ignore_index=True)\n",
    "\n",
    "\n",
    "# Display the first few rows of the DataFrame\n",
    "print(ebpf_mappings.head())"
   ]
  },
  {
   "cell_type": "code",
   "execution_count": null,
   "metadata": {},
   "outputs": [],
   "source": []
  }
 ],
 "metadata": {
  "kernelspec": {
   "display_name": "Python 3",
   "language": "python",
   "name": "python3"
  },
  "language_info": {
   "codemirror_mode": {
    "name": "ipython",
    "version": 3
   },
   "file_extension": ".py",
   "mimetype": "text/x-python",
   "name": "python",
   "nbconvert_exporter": "python",
   "pygments_lexer": "ipython3",
   "version": "3.10.12"
  }
 },
 "nbformat": 4,
 "nbformat_minor": 2
}
