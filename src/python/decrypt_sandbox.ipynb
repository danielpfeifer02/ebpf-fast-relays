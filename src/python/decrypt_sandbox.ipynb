{
 "cells": [
  {
   "cell_type": "code",
   "execution_count": null,
   "metadata": {},
   "outputs": [],
   "source": []
  },
  {
   "cell_type": "code",
   "execution_count": 244,
   "metadata": {},
   "outputs": [],
   "source": [
    "rawcipher = \"\"\"\n",
    "4102d71a89d3446c42fbfdbdbfcc51d73f00020623820c22b856e6ed82402162cd6e9db35d625f96f4aee175de176b3604fcffc05356136a64b74950c0ca3c3039751f6fb4ca2a69c2b78f602ec8e8f27fbb49adff4ed8a158be482582936f04f7e802bec5bd5ec38280abc19cd24d4535cfe3b30759a0384f9711c4b64e305335ed767e053ee750a6020a84f7c7167da98ec3fde3f88c8934a6798a79ee2ebca5e7212df49864cabb6a86254d7ac855b9c945af6fde4013569b83b8824c8680967184c1b0cff72058833eaea045ca37f8a00c5ffa3647f04162744493faff796c2648b09e85d1997e2354702ad951bb16914c1ac080dd37403a1f621fb2e53e4b7d121533ee969f8b2758b39a4c796345aa561ee546fc53ff\n",
    "\"\"\""
   ]
  },
  {
   "cell_type": "code",
   "execution_count": 245,
   "metadata": {},
   "outputs": [
    {
     "name": "stdout",
     "output_type": "stream",
     "text": [
      "A\u0002×\u001aÓDlBûý½¿ÌQ×?\u0000\u0002\u0006#\f\"¸Væí@!bÍn³]b_ô®áuÞ\u0017k6\u0004üÿÀSV\u0013jd·IPÀÊ<09u\u001fo´Ê*iÂ·`.Èèò»I­ÿNØ¡X¾H%o\u0004÷è\u0002¾Å½^Ã«ÁÒME5Ïã³\u0007Y 8O\u0011Ä¶N0S5ív~\u0005>çP¦\u0002\n",
      "÷Ç\u0016}©Ãýãø4¦yyî.¼¥ç!-ôdÊ»j%MzÈU¹ÉE¯oÞ@\u0013V¸LqÁ°Ï÷ X>® EÊ7ø \f_ú6GðAbtDúÿyl&H°Ñ~#Tp*ÙQ»\u0016L\u001aÀÝ7@:\u001fb\u001f²å>K}\u0012\u00153î'X³LycEªV\u001eåFüSÿ"
     ]
    }
   ],
   "source": [
    "cipher = bytes.fromhex(rawcipher.strip().replace(\" \", \"\"))\n",
    "for i in range(len(cipher)):\n",
    "    print(chr(cipher[i]), end=\"\")\n",
    "\n",
    "ciphers = []\n",
    "for i in range(0, len(cipher)-2):\n",
    "    ciphers.append(cipher[i:])"
   ]
  },
  {
   "cell_type": "code",
   "execution_count": 246,
   "metadata": {},
   "outputs": [],
   "source": [
    "rawxor = \"\"\"\n",
    "fe 25 b3 0f ed c9 f9 2f d7 03 88 2f 6b cf 01 4e e4 fd 37 f6 f6 06 24 7a d0 c7 f3 01 54 14 38 04 30 69 65 46 a6 f5 9d c9 0f 79 8c 13 70 9a 55 0c 4e c2 4a cf 74 11 29 38 53 c5 78 ef d9 87 a3 28 18 24 c2 46 d2 da fc 27 35 0d ba 48 9a 32 ec 47 61 2d a1 b9 20 d1 7e 74 52 a2 fb ef ab 53 fe f3 9b f7 64 fa 83 4f 6a 3b 48 2f 44 a5 c3 31 4a 40 f9 0d dd b3 98 14 72 9e ed 70 38 32 cc 17 3c 18 8b 83 0f 70 23 b2 1b 42 67 97 69 34 d9 00 ee 02 fe 4d b9 5e c3 06 80 a2 fb 1c ed 91 ef fd cf e3 c4 6c 84 de 3b a3 c6 94 12 84 e2 c7 62 b1 03 cf bd d0 54 38 90 30 26 24 db 05 f9 40 12 18 a3 27 22 35 cf 7e 4d 87 c7 12 8b e2 b1 5a cb fd 83 4a 9a 97 4e 8d a4 80 66 a9 79 bb d2 bc 1e 41 0e a1 3d dc f4 db ef 2d d6 e2 b6 62 e1 18 ae 6e 10 8c d6 9b 86 5f bc f0 39 ee 04 df 15 3a 39 9f 26 1a 72 da 5c fa ae 78 0d 94 43 16 db 8b 68 f7 25 61 e7 98 01 a4 5e 48 9d 4c 70 2a c0 51 b3 d6 91 4c 1a c0 80 dd 37 08 5f 73 0e 70 92 83 4c 24 10 32 66 56 9c e0 fa f9 de c8 1f 33 a6 1d 4b 22 87 bd \n",
    "\"\"\""
   ]
  },
  {
   "cell_type": "code",
   "execution_count": 247,
   "metadata": {},
   "outputs": [
    {
     "name": "stdout",
     "output_type": "stream",
     "text": [
      "C\u0016Ûh÷%aç\u0001¤^HLp*ÀQ³ÖL\u001aÀÝ_s\u000epL$\u00102fVàúùÞÈ\u001f3¦\u001dK\"½âÇb±\u0003Ï½ÐT80&$Û\u0005ù@\u0012\u0018£'\"5Ï~MÇ\u0012â±ZËýJN¤f©y»Ò¼\u001eA\u000e¡=ÜôÛï-Öâ¶bá\u0018®n\u0010Ö_¼ð9î\u0004ß\u0015:9&\u001arÚ\\ú®x"
     ]
    }
   ],
   "source": [
    "useints = False\n",
    "\n",
    "if useints:\n",
    "    xorints = list(map(int, rawxor.split(\" \")))\n",
    "    xorbytes = bytes(xorints)\n",
    "    for i in range(len(xorbytes)):\n",
    "        print(chr(xorbytes[i]), end=\"\")\n",
    "else:\n",
    "    xorbytes = bytes.fromhex(rawxor.strip().replace(\" \", \"\"))\n",
    "    for i in range(len(xorbytes)):\n",
    "        print(chr(xorbytes[i]), end=\"\")\n",
    "\n",
    "xorbyteinstances = []\n",
    "xorbyteinstances.append(xorbytes)\n",
    "for i in range(0, len(xorbytes)-2):\n",
    "    xorbyteinstances.append(xorbytes[i:])"
   ]
  },
  {
   "cell_type": "code",
   "execution_count": 255,
   "metadata": {},
   "outputs": [
    {
     "name": "stdout",
     "output_type": "stream",
     "text": [
      "0 46\n",
      "\n",
      "0xdb0x570xdb0x540x4b0x990x8b0x180x530xd20xc50xee0x7a0xb40xbe0xe0xb80xa30x2a0x1e0x70x400x4a0xf00x620xaa0xc10xd80x8f0xfa0x690xf80xff0x820xda0xd20x700xc30xe60xb60x250xd00x950x270x7c0xec0x840x9d0x570x20xc0x5b0xa40x320xe90xe90x2b0xdd0x720x180xef0x8e0x990xf30x80x3f0x5f0x960xb90x170x990xf10xd60xc50x110x8d0x5e0xf00xda0x3e0x680x870x510x260x7c0x410xa80x820xea0xa50xa0x420x150xfa0x5b0xdd0xf70x60x00x400x880x40x00x00x840x00x90x3a0x800x3f0xdc0xaa0xc80x00x00x770x6b0xdd0x7e0x30xec0x510x850xd60x320xac0xf70x310x840xee0xb90xc30xd50x6a0xdf0xc00x960x240x2e0x5f0xf20x3e0x560x6f0xb10x2d0xe40xdf0xd60x370xf20xc40xb30x610x6b0x10x9b0x5f0x740x770x580x640x6b0xb70x630xd60xe90x6e0x3b0xc0x2f0x5c0xf60xa80x740x4b0xf80xc70xe40x920xb30x2a0x9b0xfc0x7b0x4d0x610xe0xe00xad0x9e0x2e0xf80x610x80x170x2b0x490xa80x9c0xa80xba0xd00xaa0x7f0x500xf00xe0x670x860x160x2d0x200x6a0xbd0x5e0x390x6f0xe00x70x850x210x740x110x9b0x30x290x570x60x840x750xc70x360xbe0x180x00x00x190x00x80xc00x00x00x00x00x00x00x00x480x650x6c0x6c0x6f0x200x660x720x6f0x6d0x200x730x650x720x760x650x720xf90x900xac0xa90xea0x640x280x670x2d0xeb\n"
     ]
    }
   ],
   "source": [
    "ctr = 0\n",
    "for cipher in ciphers:\n",
    "    for xorbytes in xorbyteinstances:\n",
    "        # print()\n",
    "        # for i in range(min(len(cipher), len(xorbytes))):\n",
    "        #     print(hex(cipher[i]), end=\" \")\n",
    "        # print()\n",
    "        word = \"\"\n",
    "        for i in range(min(len(cipher), len(xorbytes))):\n",
    "            word += chr(cipher[i] ^ xorbytes[i])\n",
    "        #     print(chr(cipher[i] ^ xorbytes[i]), end=\"\")\n",
    "        # print()\n",
    "        # for i in range(min(len(cipher), len(xorbytes))):\n",
    "        #     print(hex(cipher[i] ^ xorbytes[i]), end=\"\")\n",
    "        # print()\n",
    "        if \"Hello\" in word:\n",
    "            print(ciphers.index(cipher), xorbyteinstances.index(xorbytes))\n",
    "            print()\n",
    "            for i in range(min(len(cipher), len(xorbytes))):\n",
    "                print(hex(ord(chr(cipher[i] ^ xorbytes[i]))), end=\"\")\n",
    "            print()\n",
    "            ctr = 1\n",
    "    if ctr > 0:\n",
    "        break\n"
   ]
  },
  {
   "cell_type": "code",
   "execution_count": 249,
   "metadata": {},
   "outputs": [
    {
     "data": {
      "text/plain": [
       "b'\\x9aU\\x0cN\\xc2J\\xcft\\x11)8S\\xc5x\\xef\\xd9\\x87\\xa3(\\x18$\\xc2F\\xd2\\xda\\xfc\\'5\\r\\xbaH\\x9a2\\xecGa-\\xa1\\xb9 \\xd1~tR\\xa2\\xfb\\xef\\xabS\\xfe\\xf3\\x9b\\xf7d\\xfa\\x83Oj;H/D\\xa5\\xc31J@\\xf9\\r\\xdd\\xb3\\x98\\x14r\\x9e\\xedp82\\xcc\\x17<\\x18\\x8b\\x83\\x0fp#\\xb2\\x1bBg\\x97i4\\xd9\\x00\\xee\\x02\\xfeM\\xb9^\\xc3\\x06\\x80\\xa2\\xfb\\x1c\\xed\\x91\\xef\\xfd\\xcf\\xe3\\xc4l\\x84\\xde;\\xa3\\xc6\\x94\\x12\\x84\\xe2\\xc7b\\xb1\\x03\\xcf\\xbd\\xd0T8\\x900&$\\xdb\\x05\\xf9@\\x12\\x18\\xa3\\'\"5\\xcf~M\\x87\\xc7\\x12\\x8b\\xe2\\xb1Z\\xcb\\xfd\\x83J\\x9a\\x97N\\x8d\\xa4\\x80f\\xa9y\\xbb\\xd2\\xbc\\x1eA\\x0e\\xa1=\\xdc\\xf4\\xdb\\xef-\\xd6\\xe2\\xb6b\\xe1\\x18\\xaen\\x10\\x8c\\xd6\\x9b\\x86_\\xbc\\xf09\\xee\\x04\\xdf\\x15:9\\x9f&\\x1ar\\xda\\\\\\xfa\\xaex\\r\\x94C\\x16\\xdb\\x8bh\\xf7%a\\xe7\\x98\\x01\\xa4^H\\x9dLp*\\xc0Q\\xb3\\xd6\\x91L\\x1a\\xc0\\x80\\xdd7\\x08_s\\x0ep\\x92\\x83L$\\x102fV\\x9c\\xe0\\xfa\\xf9\\xde\\xc8\\x1f3\\xa6\\x1dK\"\\x87\\xbd'"
      ]
     },
     "execution_count": 249,
     "metadata": {},
     "output_type": "execute_result"
    }
   ],
   "source": [
    "xorbyteinstances[46]"
   ]
  },
  {
   "cell_type": "code",
   "execution_count": 251,
   "metadata": {},
   "outputs": [
    {
     "data": {
      "text/plain": [
       "'0x55'"
      ]
     },
     "execution_count": 251,
     "metadata": {},
     "output_type": "execute_result"
    }
   ],
   "source": [
    "hex(ord('U'))"
   ]
  },
  {
   "cell_type": "code",
   "execution_count": null,
   "metadata": {},
   "outputs": [],
   "source": []
  }
 ],
 "metadata": {
  "kernelspec": {
   "display_name": "Python 3",
   "language": "python",
   "name": "python3"
  },
  "language_info": {
   "codemirror_mode": {
    "name": "ipython",
    "version": 3
   },
   "file_extension": ".py",
   "mimetype": "text/x-python",
   "name": "python",
   "nbconvert_exporter": "python",
   "pygments_lexer": "ipython3",
   "version": "3.10.12"
  }
 },
 "nbformat": 4,
 "nbformat_minor": 2
}
