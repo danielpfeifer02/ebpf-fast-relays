{
 "cells": [
  {
   "cell_type": "code",
   "execution_count": null,
   "metadata": {},
   "outputs": [],
   "source": []
  },
  {
   "cell_type": "code",
   "execution_count": 36,
   "metadata": {},
   "outputs": [],
   "source": [
    "rawcipher = \"\"\"\n",
    "99 d5 c8 23 67 14 68 7f 99 87 45 03 93 8d cc 61 cf 17 4f 9c 3f b5 5f fb da f7 60 44 a2 00 30 20 28 25 0e 64 94\n",
    "\n",
    "\"\"\""
   ]
  },
  {
   "cell_type": "code",
   "execution_count": 37,
   "metadata": {},
   "outputs": [
    {
     "name": "stdout",
     "output_type": "stream",
     "text": [
      "ÕÈ#g\u0014hE\u0003ÌaÏ\u0017O?µ_ûÚ÷`D¢\u00000 (%\u000ed"
     ]
    }
   ],
   "source": [
    "cipher = bytes.fromhex(rawcipher.replace(\" \", \"\"))\n",
    "for i in range(len(cipher)):\n",
    "    print(chr(cipher[i]), end=\"\")"
   ]
  },
  {
   "cell_type": "code",
   "execution_count": 38,
   "metadata": {},
   "outputs": [],
   "source": [
    "rawxorints = \"\"\"\n",
    "128 213 192 35 47 113 4 19 246 167 35 113 252 224 236 2 163 126 42 242 75 114 43 214 152 29 249 138 193 179 132 60 230 213 150 229 172 80 149 113 159 71 89 1 108 128 167 234 32 109 117 136 215 78 233 153 170 239 102 31 73 112 176 224\n",
    "\"\"\""
   ]
  },
  {
   "cell_type": "code",
   "execution_count": 39,
   "metadata": {},
   "outputs": [
    {
     "name": "stdout",
     "output_type": "stream",
     "text": [
      "ÕÀ#/q\u0004\u0013ö§#qüàì\u0002£~*òKr+Ö\u001dùÁ³<æÕå¬"
     ]
    }
   ],
   "source": [
    "xorints = list(map(int, rawxorints.split(\" \")))\n",
    "xorbytes = bytes(xorints)\n",
    "for i in range(len(cipher)):\n",
    "    print(chr(xorbytes[i]), end=\"\")"
   ]
  },
  {
   "cell_type": "code",
   "execution_count": 41,
   "metadata": {},
   "outputs": [
    {
     "name": "stdout",
     "output_type": "stream",
     "text": [
      "\u0019\u0000Hello from clientÇt-BêÎc³´\u001cÎð8\n",
      "\n",
      "0x190x00x80x00x480x650x6c0x6c0x6f0x200x660x720x6f0x6d0x200x630x6c0x690x650x6e0x740xc70x740x2d0x420xea0x990xce0x630xb30xb40x1c0xce0xf00x980x810x38"
     ]
    }
   ],
   "source": [
    "for i in range(min(len(cipher), len(xorbytes))):\n",
    "    print(chr(cipher[i] ^ xorbytes[i]), end=\"\")\n",
    "print(\"\\n\")\n",
    "for i in range(min(len(cipher), len(xorbytes))):\n",
    "    print(hex(cipher[i] ^ xorbytes[i]), end=\"\")"
   ]
  },
  {
   "cell_type": "code",
   "execution_count": null,
   "metadata": {},
   "outputs": [],
   "source": []
  }
 ],
 "metadata": {
  "kernelspec": {
   "display_name": "Python 3",
   "language": "python",
   "name": "python3"
  },
  "language_info": {
   "codemirror_mode": {
    "name": "ipython",
    "version": 3
   },
   "file_extension": ".py",
   "mimetype": "text/x-python",
   "name": "python",
   "nbconvert_exporter": "python",
   "pygments_lexer": "ipython3",
   "version": "3.10.12"
  }
 },
 "nbformat": 4,
 "nbformat_minor": 2
}
