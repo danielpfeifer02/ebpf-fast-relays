{
 "cells": [
  {
   "cell_type": "code",
   "execution_count": null,
   "metadata": {},
   "outputs": [],
   "source": []
  },
  {
   "cell_type": "code",
   "execution_count": 207,
   "metadata": {},
   "outputs": [],
   "source": [
    "rawcipher = \"\"\"\n",
    "32 0c 31 d2 f3 a6 ec 3e 1b d2 37 fe 5d 98 43 7d ca 10 1f 2f 95 0a cc 96 91 b9 5d f8 cd 69 c3 6d f3 f9 47 b9 e4 41 af 50 4b 0d 30 59 27 ab de 44 63 69 cb fa 56 f4 00 00 00 00 00 00 00 00 00 00\n",
    "\"\"\""
   ]
  },
  {
   "cell_type": "code",
   "execution_count": 208,
   "metadata": {},
   "outputs": [
    {
     "name": "stdout",
     "output_type": "stream",
     "text": [
      "2\f1Òó¦ì>\u001bÒ7þ]C}Ê\u0010\u001f/\n",
      "0Y'«ÞDciËúVô\u0000\u0000\u0000\u0000\u0000\u0000\u0000\u0000\u0000\u0000"
     ]
    }
   ],
   "source": [
    "cipher = bytes.fromhex(rawcipher.strip().replace(\" \", \"\"))\n",
    "for i in range(len(cipher)):\n",
    "    print(chr(cipher[i]), end=\"\")\n",
    "\n",
    "ciphers = []\n",
    "for i in range(0, len(cipher)-2):\n",
    "    ciphers.append(cipher[i:])"
   ]
  },
  {
   "cell_type": "code",
   "execution_count": 209,
   "metadata": {},
   "outputs": [],
   "source": [
    "rawxor = \"\"\"\n",
    "48 9e 2d 42 c3 52 95 4c ef 59 82 e7 54 7b e7 e7 35 12 22 6a 31 e2 17 71 65 da 5d f8 c5 a9 c3 6d f3 f9 47 b9 e4 09 ca 3c 27 62 10 3f 55 c4 b3 64 10 0c b9 8c 33 86 5e 8e 79 43 f3 ea 2c fb ec bd\n",
    "\"\"\""
   ]
  },
  {
   "cell_type": "code",
   "execution_count": 210,
   "metadata": {},
   "outputs": [
    {
     "name": "stdout",
     "output_type": "stream",
     "text": [
      "H-BÃRLïYçT{çç5\u0012\"j1â\u0017qeÚ]øÅ©ÃmóùG¹ä\tÊ<'b\u0010?UÄ³d\u0010\f¹3^yCóê,ûì½"
     ]
    }
   ],
   "source": [
    "useints = False\n",
    "\n",
    "if useints:\n",
    "    xorints = list(map(int, rawxor.split(\" \")))\n",
    "    xorbytes = bytes(xorints)\n",
    "    for i in range(len(xorbytes)):\n",
    "        print(chr(xorbytes[i]), end=\"\")\n",
    "else:\n",
    "    xorbytes = bytes.fromhex(rawxor.strip().replace(\" \", \"\"))\n",
    "    for i in range(len(xorbytes)):\n",
    "        print(chr(xorbytes[i]), end=\"\")\n",
    "\n",
    "xorbyteinstances = []\n",
    "xorbyteinstances.append(xorbytes)\n",
    "# for i in range(0, len(xorbytes)-2):\n",
    "#     xorbyteinstances.append(xorbytes[i:])"
   ]
  },
  {
   "cell_type": "code",
   "execution_count": 211,
   "metadata": {},
   "outputs": [
    {
     "name": "stdout",
     "output_type": "stream",
     "text": [
      "z\u001c0ôyrôµ\u0019\tã¤ÿ\u0002=E¤èÛçôc\u0000À\u0000\u0000\u0000\u0000\u0000\u0000\u0000Hello from server^yCóê,ûì½\n"
     ]
    }
   ],
   "source": [
    "for cipher in ciphers:\n",
    "    for xorbytes in xorbyteinstances:\n",
    "        # print()\n",
    "        # for i in range(min(len(cipher), len(xorbytes))):\n",
    "        #     print(hex(cipher[i]), end=\" \")\n",
    "        # print()\n",
    "        word = \"\"\n",
    "        for i in range(min(len(cipher), len(xorbytes))):\n",
    "            word += chr(cipher[i] ^ xorbytes[i])\n",
    "        #     print(chr(cipher[i] ^ xorbytes[i]), end=\"\")\n",
    "        # print()\n",
    "        # for i in range(min(len(cipher), len(xorbytes))):\n",
    "        #     print(hex(cipher[i] ^ xorbytes[i]), end=\"\")\n",
    "        # print()\n",
    "        if \"Hello\" in word:\n",
    "            print(word)\n"
   ]
  },
  {
   "cell_type": "code",
   "execution_count": null,
   "metadata": {},
   "outputs": [],
   "source": []
  }
 ],
 "metadata": {
  "kernelspec": {
   "display_name": "Python 3",
   "language": "python",
   "name": "python3"
  },
  "language_info": {
   "codemirror_mode": {
    "name": "ipython",
    "version": 3
   },
   "file_extension": ".py",
   "mimetype": "text/x-python",
   "name": "python",
   "nbconvert_exporter": "python",
   "pygments_lexer": "ipython3",
   "version": "3.10.12"
  }
 },
 "nbformat": 4,
 "nbformat_minor": 2
}
