{
    "cells": [
        {
            "cell_type": "code",
            "execution_count": null,
            "metadata": {},
            "outputs": [],
            "source": []
        },
        {
            "cell_type": "code",
            "execution_count": 1,
            "metadata": {},
            "outputs": [],
            "source": [
                "def open_file(filename):\n",
                "    with open(filename, 'r', errors='ignore') as f:\n",
                "        return f.read().split('\\n')"
            ]
        },
        {
            "cell_type": "code",
            "execution_count": 7,
            "metadata": {},
            "outputs": [],
            "source": [
                "correct = open_file(\"decrypted_correct\")\n",
                "idk = open_file(\"decrypted_idk\")"
            ]
        },
        {
            "cell_type": "code",
            "execution_count": 12,
            "metadata": {},
            "outputs": [
                {
                    "name": "stdout",
                    "output_type": "stream",
                    "text": [
                        "Found 57781 matches which is 59.94%\n"
                    ]
                }
            ],
            "source": [
                "idk_copy = idk.copy()\n",
                "\n",
                "counter = 0\n",
                "for i in range(len(correct)):\n",
                "    if correct[i] in idk_copy:\n",
                "        counter += 1\n",
                "        idk_copy.remove(correct[i])\n",
                "\n",
                "print(f'Found {counter} matches which is {counter/len(correct)*100:.2f}%')"
            ]
        },
        {
            "cell_type": "code",
            "execution_count": 11,
            "metadata": {},
            "outputs": [
                {
                    "name": "stdout",
                    "output_type": "stream",
                    "text": [
                        "Found 57781 matches which is 94.37%\n"
                    ]
                }
            ],
            "source": [
                "correct_copy = correct.copy()\n",
                "\n",
                "counter = 0\n",
                "for i in range(len(idk)):\n",
                "    if idk[i] in correct_copy:\n",
                "        counter += 1\n",
                "        correct_copy.remove(idk[i])\n",
                "\n",
                "print(f'Found {counter} matches which is {counter/len(idk)*100:.2f}%')"
            ]
        },
        {
            "cell_type": "code",
            "execution_count": 10,
            "metadata": {},
            "outputs": [
                {
                    "name": "stdout",
                    "output_type": "stream",
                    "text": [
                        "Length of correct: 96391\n",
                        "Length of idk: 61229\n"
                    ]
                }
            ],
            "source": [
                "print(f'Length of correct: {len(correct)}')\n",
                "print(f'Length of idk: {len(idk)}')"
            ]
        },
        {
            "cell_type": "code",
            "execution_count": null,
            "metadata": {},
            "outputs": [],
            "source": []
        }
    ],
    "metadata": {
        "kernelspec": {
            "display_name": "Python 3",
            "language": "python",
            "name": "python3"
        },
        "language_info": {
            "codemirror_mode": {
                "name": "ipython",
                "version": 3
            },
            "file_extension": ".py",
            "mimetype": "text/x-python",
            "name": "python",
            "nbconvert_exporter": "python",
            "pygments_lexer": "ipython3",
            "version": "3.10.12"
        }
    },
    "nbformat": 4,
    "nbformat_minor": 2
}
